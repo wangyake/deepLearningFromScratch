{
 "cells": [
  {
   "cell_type": "markdown",
   "metadata": {},
   "source": [
    "## 第二章 感知机\n",
    "\n",
    "### 感知机是什么\n",
    "\n",
    "* 接收多个信号，输出一个信号。（想象电流或水流）\n",
    "* 感知机信号只有“流/不流”（1/0），0不传递，1传递\n",
    "* $\\theta$ 阈值\n",
    "\n",
    "$$ y =\\left\\{\n",
    "\\begin{aligned}\n",
    "0 & & （\\omega_1x_1 + \\omega_2x_2 \\leq \\theta) \\\\\n",
    "1 & & （\\omega_1x_1 + \\omega_2x_2 > \\theta) \\\\\n",
    "\\end{aligned}\n",
    "\\right.\n",
    "$$\n",
    "\n",
    "* 权重相当于电阻。但越大通过的电流越大"
   ]
  },
  {
   "cell_type": "markdown",
   "metadata": {},
   "source": [
    "\n",
    "### 与门\n",
    "\n",
    "* 带入真值（0，1）推导，可得$\\omega_1$, $\\omega_2$均小于$\\theta$,且两者和大于$\\theta$\n",
    "* 三者可取0.5，0.5，0.7\n",
    "\n",
    "### 代码实现"
   ]
  },
  {
   "cell_type": "code",
   "execution_count": 5,
   "metadata": {},
   "outputs": [],
   "source": [
    "def AND(x1,x2):\n",
    "    w1, w2, theta = 0.5, 0.5, 0.7  #这里b为负theta，为-0.7。称为偏置\n",
    "    tmp = w1*x1 + w2*x2   \n",
    "    if tmp <= theta:\n",
    "        return 0\n",
    "    elif tmp > theta:\n",
    "        return 1"
   ]
  },
  {
   "cell_type": "code",
   "execution_count": 8,
   "metadata": {},
   "outputs": [
    {
     "data": {
      "text/plain": [
       "0"
      ]
     },
     "execution_count": 8,
     "metadata": {},
     "output_type": "execute_result"
    }
   ],
   "source": [
    "AND(0,0)"
   ]
  },
  {
   "cell_type": "markdown",
   "metadata": {},
   "source": [
    "### 使用numpy实现"
   ]
  },
  {
   "cell_type": "code",
   "execution_count": 11,
   "metadata": {},
   "outputs": [],
   "source": [
    "import numpy as np"
   ]
  },
  {
   "cell_type": "code",
   "execution_count": 14,
   "metadata": {},
   "outputs": [],
   "source": [
    "def AND(X):  # X,W均为数组\n",
    "    W = np.array([0.5,0.5])\n",
    "    b = -0.7\n",
    "    tmp = np.sum(W*X)+b  # sum方法\n",
    "    if tmp <= 0:\n",
    "        return 0\n",
    "    else:\n",
    "        return 1"
   ]
  },
  {
   "cell_type": "code",
   "execution_count": 17,
   "metadata": {},
   "outputs": [
    {
     "data": {
      "text/plain": [
       "0"
      ]
     },
     "execution_count": 17,
     "metadata": {},
     "output_type": "execute_result"
    }
   ],
   "source": [
    "X = np.array([0,0]) #array初始化，可以接收list参数\n",
    "AND(X)"
   ]
  },
  {
   "cell_type": "markdown",
   "metadata": {},
   "source": [
    "### 局限\n",
    "\n",
    "* 不能实现异或门，此时$\\omega_1$,$\\omega_2$均要小于$\\theta$,但两者和却要小于$\\theta$。单层无法实现\n",
    "* 图像理解，一条直线无法分割交错的四点\n",
    "* 去掉直线限制，曲线可以实现分割\n",
    "\n",
    "### 多层感知机\n",
    "\n",
    "* 与非门+或门 再经过 与门 即可实现 异或门"
   ]
  },
  {
   "cell_type": "code",
   "execution_count": 19,
   "metadata": {},
   "outputs": [],
   "source": [
    "# 与非门\n",
    "def NAND(X):  # X,W均为数组\n",
    "    W = np.array([-0.5,-0.5])\n",
    "    b = 0.7\n",
    "    tmp = np.sum(W*X)+b  # sum方法\n",
    "    if tmp <= 0:\n",
    "        return 0\n",
    "    else:\n",
    "        return 1"
   ]
  },
  {
   "cell_type": "code",
   "execution_count": 21,
   "metadata": {},
   "outputs": [
    {
     "data": {
      "text/plain": [
       "1"
      ]
     },
     "execution_count": 21,
     "metadata": {},
     "output_type": "execute_result"
    }
   ],
   "source": [
    "O = np.array([1,0])\n",
    "NAND(O)"
   ]
  },
  {
   "cell_type": "code",
   "execution_count": 22,
   "metadata": {},
   "outputs": [],
   "source": [
    "# 或门\n",
    "def OR(X):  # X,W均为数组\n",
    "    W = np.array([0.7,0.7])\n",
    "    b = -0.5\n",
    "    tmp = np.sum(W*X)+b  # sum方法\n",
    "    if tmp <= 0:\n",
    "        return 0\n",
    "    else:\n",
    "        return 1"
   ]
  },
  {
   "cell_type": "code",
   "execution_count": 33,
   "metadata": {},
   "outputs": [
    {
     "data": {
      "text/plain": [
       "1"
      ]
     },
     "execution_count": 33,
     "metadata": {},
     "output_type": "execute_result"
    }
   ],
   "source": [
    "P = np.array([0,1])\n",
    "OR(P)"
   ]
  },
  {
   "cell_type": "markdown",
   "metadata": {},
   "source": [
    "## 实现异或门\n",
    "\n",
    "* 与非门+或门 再经过 与门 即可实现 异或门"
   ]
  },
  {
   "cell_type": "code",
   "execution_count": 36,
   "metadata": {},
   "outputs": [],
   "source": [
    "def NOR(X):\n",
    "    input_tmp_1 = NAND(X)\n",
    "    input_tmp_2 = OR(X)\n",
    "    tmp = AND(np.array([input_tmp_1, input_tmp_2]))\n",
    "    if tmp <= 0:\n",
    "        return 0\n",
    "    else:\n",
    "        return 1"
   ]
  },
  {
   "cell_type": "code",
   "execution_count": 42,
   "metadata": {},
   "outputs": [
    {
     "data": {
      "text/plain": [
       "1"
      ]
     },
     "execution_count": 42,
     "metadata": {},
     "output_type": "execute_result"
    }
   ],
   "source": [
    "R = np.array([0,1])\n",
    "NOR(R)"
   ]
  },
  {
   "cell_type": "code",
   "execution_count": null,
   "metadata": {},
   "outputs": [],
   "source": []
  }
 ],
 "metadata": {
  "kernelspec": {
   "display_name": "Python 3",
   "language": "python",
   "name": "python3"
  },
  "language_info": {
   "codemirror_mode": {
    "name": "ipython",
    "version": 3
   },
   "file_extension": ".py",
   "mimetype": "text/x-python",
   "name": "python",
   "nbconvert_exporter": "python",
   "pygments_lexer": "ipython3",
   "version": "3.6.8"
  }
 },
 "nbformat": 4,
 "nbformat_minor": 2
}
